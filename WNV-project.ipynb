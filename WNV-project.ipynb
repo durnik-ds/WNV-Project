{
 "cells": [
  {
   "cell_type": "code",
   "execution_count": 40,
   "metadata": {},
   "outputs": [],
   "source": [
    "import pandas as pd\n",
    "import numpy as np"
   ]
  },
  {
   "cell_type": "markdown",
   "metadata": {},
   "source": [
    "Importing data"
   ]
  },
  {
   "cell_type": "code",
   "execution_count": 41,
   "metadata": {},
   "outputs": [],
   "source": [
    "data = pd.read_csv('./train.csv',\n",
    "                 sep=',',\n",
    "                 header=0)"
   ]
  },
  {
   "cell_type": "code",
   "execution_count": 42,
   "metadata": {},
   "outputs": [
    {
     "name": "stdout",
     "output_type": "stream",
     "text": [
      "945\n"
     ]
    }
   ],
   "source": [
    "print(len(data[data['NumMosquitos'] == 50]))"
   ]
  },
  {
   "cell_type": "code",
   "execution_count": 43,
   "metadata": {},
   "outputs": [
    {
     "name": "stdout",
     "output_type": "stream",
     "text": [
      "Index(['Date', 'Address', 'Species', 'Block', 'Street', 'Trap',\n",
      "       'AddressNumberAndStreet', 'Latitude', 'Longitude', 'AddressAccuracy',\n",
      "       'NumMosquitos', 'WnvPresent'],\n",
      "      dtype='object')\n"
     ]
    }
   ],
   "source": [
    "print(data.columns)"
   ]
  },
  {
   "cell_type": "code",
   "execution_count": 73,
   "metadata": {},
   "outputs": [],
   "source": [
    "df = data.groupby(by=['Date', 'Species', 'Trap', 'WnvPresent'], as_index=False)['NumMosquitos'].sum()"
   ]
  },
  {
   "cell_type": "code",
   "execution_count": 75,
   "metadata": {},
   "outputs": [],
   "source": [
    "presence_of_wmv = df[['Species', 'WnvPresent']].copy().groupby(by=['Species']).max()"
   ]
  },
  {
   "cell_type": "code",
   "execution_count": 47,
   "metadata": {},
   "outputs": [
    {
     "data": {
      "text/html": [
       "<div>\n",
       "<style scoped>\n",
       "    .dataframe tbody tr th:only-of-type {\n",
       "        vertical-align: middle;\n",
       "    }\n",
       "\n",
       "    .dataframe tbody tr th {\n",
       "        vertical-align: top;\n",
       "    }\n",
       "\n",
       "    .dataframe thead th {\n",
       "        text-align: right;\n",
       "    }\n",
       "</style>\n",
       "<table border=\"1\" class=\"dataframe\">\n",
       "  <thead>\n",
       "    <tr style=\"text-align: right;\">\n",
       "      <th></th>\n",
       "      <th>WnvPresent</th>\n",
       "    </tr>\n",
       "    <tr>\n",
       "      <th>Species</th>\n",
       "      <th></th>\n",
       "    </tr>\n",
       "  </thead>\n",
       "  <tbody>\n",
       "    <tr>\n",
       "      <th>CULEX ERRATICUS</th>\n",
       "      <td>0</td>\n",
       "    </tr>\n",
       "    <tr>\n",
       "      <th>CULEX PIPIENS</th>\n",
       "      <td>1</td>\n",
       "    </tr>\n",
       "    <tr>\n",
       "      <th>CULEX PIPIENS/RESTUANS</th>\n",
       "      <td>1</td>\n",
       "    </tr>\n",
       "    <tr>\n",
       "      <th>CULEX RESTUANS</th>\n",
       "      <td>1</td>\n",
       "    </tr>\n",
       "    <tr>\n",
       "      <th>CULEX SALINARIUS</th>\n",
       "      <td>0</td>\n",
       "    </tr>\n",
       "    <tr>\n",
       "      <th>CULEX TARSALIS</th>\n",
       "      <td>0</td>\n",
       "    </tr>\n",
       "    <tr>\n",
       "      <th>CULEX TERRITANS</th>\n",
       "      <td>0</td>\n",
       "    </tr>\n",
       "  </tbody>\n",
       "</table>\n",
       "</div>"
      ],
      "text/plain": [
       "                        WnvPresent\n",
       "Species                           \n",
       "CULEX ERRATICUS                  0\n",
       "CULEX PIPIENS                    1\n",
       "CULEX PIPIENS/RESTUANS           1\n",
       "CULEX RESTUANS                   1\n",
       "CULEX SALINARIUS                 0\n",
       "CULEX TARSALIS                   0\n",
       "CULEX TERRITANS                  0"
      ]
     },
     "execution_count": 47,
     "metadata": {},
     "output_type": "execute_result"
    }
   ],
   "source": [
    "presence_of_wmv"
   ]
  },
  {
   "cell_type": "markdown",
   "metadata": {},
   "source": [
    "There are only 2 species of mosquitos that can be a disease vector of WNV. They are: 'CULEX PIPIENS' and 'CULEX RESTUANS'"
   ]
  },
  {
   "cell_type": "code",
   "execution_count": 76,
   "metadata": {},
   "outputs": [
    {
     "data": {
      "text/plain": [
       "Species                 WnvPresent\n",
       "CULEX ERRATICUS         0             0.000060\n",
       "CULEX PIPIENS           0             0.315847\n",
       "                        1             0.056960\n",
       "CULEX PIPIENS/RESTUANS  0             0.420957\n",
       "                        1             0.052736\n",
       "CULEX RESTUANS          0             0.144425\n",
       "                        1             0.004947\n",
       "CULEX SALINARIUS        0             0.000783\n",
       "CULEX TARSALIS          0             0.000017\n",
       "CULEX TERRITANS         0             0.003269\n",
       "Name: NumMosquitos, dtype: float64"
      ]
     },
     "execution_count": 76,
     "metadata": {},
     "output_type": "execute_result"
    }
   ],
   "source": [
    "percentage_of_mosq = df[['Species', 'NumMosquitos', 'WnvPresent']].groupby(by=['Species', 'WnvPresent']).sum()\n",
    "\n",
    "percentage_of_mosq = percentage_of_mosq['NumMosquitos'] / np.sum(percentage_of_mosq['NumMosquitos'])\n",
    "\n",
    "percentage_of_mosq"
   ]
  },
  {
   "cell_type": "markdown",
   "metadata": {},
   "source": [
    "So almost every 6th and every 36th mosquito of 'CULEX PIPIENS' and 'CULEX RESTUANS' accordingly species is infected with WNV. Let's code the types of mosquitos that can be infected as 1 and 0 elsewhere. "
   ]
  },
  {
   "cell_type": "code",
   "execution_count": 98,
   "metadata": {},
   "outputs": [],
   "source": [
    "df = data"
   ]
  },
  {
   "cell_type": "code",
   "execution_count": 99,
   "metadata": {},
   "outputs": [],
   "source": [
    "df['Species'] = np.where((df['Species'] == 'CULEX PIPIENS') | (df['Species'] == 'CULEX PIPIENS/RESTUANS') |\n",
    "                         (df['Species'] == 'CULEX RESTUANS'), 1, 0)"
   ]
  },
  {
   "cell_type": "code",
   "execution_count": 100,
   "metadata": {},
   "outputs": [
    {
     "data": {
      "text/html": [
       "<div>\n",
       "<style scoped>\n",
       "    .dataframe tbody tr th:only-of-type {\n",
       "        vertical-align: middle;\n",
       "    }\n",
       "\n",
       "    .dataframe tbody tr th {\n",
       "        vertical-align: top;\n",
       "    }\n",
       "\n",
       "    .dataframe thead th {\n",
       "        text-align: right;\n",
       "    }\n",
       "</style>\n",
       "<table border=\"1\" class=\"dataframe\">\n",
       "  <thead>\n",
       "    <tr style=\"text-align: right;\">\n",
       "      <th></th>\n",
       "      <th>Date</th>\n",
       "      <th>Address</th>\n",
       "      <th>Species</th>\n",
       "      <th>Block</th>\n",
       "      <th>Street</th>\n",
       "      <th>Trap</th>\n",
       "      <th>AddressNumberAndStreet</th>\n",
       "      <th>Latitude</th>\n",
       "      <th>Longitude</th>\n",
       "      <th>AddressAccuracy</th>\n",
       "      <th>NumMosquitos</th>\n",
       "      <th>WnvPresent</th>\n",
       "    </tr>\n",
       "  </thead>\n",
       "  <tbody>\n",
       "    <tr>\n",
       "      <th>0</th>\n",
       "      <td>2007-05-29</td>\n",
       "      <td>4100 North Oak Park Avenue, Chicago, IL 60634,...</td>\n",
       "      <td>1</td>\n",
       "      <td>41</td>\n",
       "      <td>N OAK PARK AVE</td>\n",
       "      <td>T002</td>\n",
       "      <td>4100  N OAK PARK AVE, Chicago, IL</td>\n",
       "      <td>41.954690</td>\n",
       "      <td>-87.800991</td>\n",
       "      <td>9</td>\n",
       "      <td>1</td>\n",
       "      <td>0</td>\n",
       "    </tr>\n",
       "    <tr>\n",
       "      <th>1</th>\n",
       "      <td>2007-05-29</td>\n",
       "      <td>4100 North Oak Park Avenue, Chicago, IL 60634,...</td>\n",
       "      <td>1</td>\n",
       "      <td>41</td>\n",
       "      <td>N OAK PARK AVE</td>\n",
       "      <td>T002</td>\n",
       "      <td>4100  N OAK PARK AVE, Chicago, IL</td>\n",
       "      <td>41.954690</td>\n",
       "      <td>-87.800991</td>\n",
       "      <td>9</td>\n",
       "      <td>1</td>\n",
       "      <td>0</td>\n",
       "    </tr>\n",
       "    <tr>\n",
       "      <th>2</th>\n",
       "      <td>2007-05-29</td>\n",
       "      <td>6200 North Mandell Avenue, Chicago, IL 60646, USA</td>\n",
       "      <td>1</td>\n",
       "      <td>62</td>\n",
       "      <td>N MANDELL AVE</td>\n",
       "      <td>T007</td>\n",
       "      <td>6200  N MANDELL AVE, Chicago, IL</td>\n",
       "      <td>41.994991</td>\n",
       "      <td>-87.769279</td>\n",
       "      <td>9</td>\n",
       "      <td>1</td>\n",
       "      <td>0</td>\n",
       "    </tr>\n",
       "    <tr>\n",
       "      <th>3</th>\n",
       "      <td>2007-05-29</td>\n",
       "      <td>7900 West Foster Avenue, Chicago, IL 60656, USA</td>\n",
       "      <td>1</td>\n",
       "      <td>79</td>\n",
       "      <td>W FOSTER AVE</td>\n",
       "      <td>T015</td>\n",
       "      <td>7900  W FOSTER AVE, Chicago, IL</td>\n",
       "      <td>41.974089</td>\n",
       "      <td>-87.824812</td>\n",
       "      <td>8</td>\n",
       "      <td>1</td>\n",
       "      <td>0</td>\n",
       "    </tr>\n",
       "    <tr>\n",
       "      <th>4</th>\n",
       "      <td>2007-05-29</td>\n",
       "      <td>7900 West Foster Avenue, Chicago, IL 60656, USA</td>\n",
       "      <td>1</td>\n",
       "      <td>79</td>\n",
       "      <td>W FOSTER AVE</td>\n",
       "      <td>T015</td>\n",
       "      <td>7900  W FOSTER AVE, Chicago, IL</td>\n",
       "      <td>41.974089</td>\n",
       "      <td>-87.824812</td>\n",
       "      <td>8</td>\n",
       "      <td>4</td>\n",
       "      <td>0</td>\n",
       "    </tr>\n",
       "  </tbody>\n",
       "</table>\n",
       "</div>"
      ],
      "text/plain": [
       "         Date                                            Address  Species  \\\n",
       "0  2007-05-29  4100 North Oak Park Avenue, Chicago, IL 60634,...        1   \n",
       "1  2007-05-29  4100 North Oak Park Avenue, Chicago, IL 60634,...        1   \n",
       "2  2007-05-29  6200 North Mandell Avenue, Chicago, IL 60646, USA        1   \n",
       "3  2007-05-29    7900 West Foster Avenue, Chicago, IL 60656, USA        1   \n",
       "4  2007-05-29    7900 West Foster Avenue, Chicago, IL 60656, USA        1   \n",
       "\n",
       "   Block           Street  Trap             AddressNumberAndStreet   Latitude  \\\n",
       "0     41   N OAK PARK AVE  T002  4100  N OAK PARK AVE, Chicago, IL  41.954690   \n",
       "1     41   N OAK PARK AVE  T002  4100  N OAK PARK AVE, Chicago, IL  41.954690   \n",
       "2     62    N MANDELL AVE  T007   6200  N MANDELL AVE, Chicago, IL  41.994991   \n",
       "3     79     W FOSTER AVE  T015    7900  W FOSTER AVE, Chicago, IL  41.974089   \n",
       "4     79     W FOSTER AVE  T015    7900  W FOSTER AVE, Chicago, IL  41.974089   \n",
       "\n",
       "   Longitude  AddressAccuracy  NumMosquitos  WnvPresent  \n",
       "0 -87.800991                9             1           0  \n",
       "1 -87.800991                9             1           0  \n",
       "2 -87.769279                9             1           0  \n",
       "3 -87.824812                8             1           0  \n",
       "4 -87.824812                8             4           0  "
      ]
     },
     "execution_count": 100,
     "metadata": {},
     "output_type": "execute_result"
    }
   ],
   "source": [
    "df.head()"
   ]
  },
  {
   "cell_type": "code",
   "execution_count": 101,
   "metadata": {},
   "outputs": [],
   "source": [
    "weather_df = pd.read_csv('./weather.csv', \n",
    "                        sep=',',\n",
    "                        header=0)"
   ]
  },
  {
   "cell_type": "code",
   "execution_count": 102,
   "metadata": {},
   "outputs": [],
   "source": [
    "weather_df = weather_df.drop('CodeSum', axis=1)"
   ]
  },
  {
   "cell_type": "markdown",
   "metadata": {},
   "source": [
    "Drop the CodeSum from the weather reports because it has only categorical values."
   ]
  },
  {
   "cell_type": "code",
   "execution_count": 103,
   "metadata": {},
   "outputs": [
    {
     "data": {
      "text/html": [
       "<div>\n",
       "<style scoped>\n",
       "    .dataframe tbody tr th:only-of-type {\n",
       "        vertical-align: middle;\n",
       "    }\n",
       "\n",
       "    .dataframe tbody tr th {\n",
       "        vertical-align: top;\n",
       "    }\n",
       "\n",
       "    .dataframe thead th {\n",
       "        text-align: right;\n",
       "    }\n",
       "</style>\n",
       "<table border=\"1\" class=\"dataframe\">\n",
       "  <thead>\n",
       "    <tr style=\"text-align: right;\">\n",
       "      <th></th>\n",
       "      <th>Station</th>\n",
       "      <th>Date</th>\n",
       "      <th>Tmax</th>\n",
       "      <th>Tmin</th>\n",
       "      <th>Tavg</th>\n",
       "      <th>Depart</th>\n",
       "      <th>DewPoint</th>\n",
       "      <th>WetBulb</th>\n",
       "      <th>Heat</th>\n",
       "      <th>Cool</th>\n",
       "      <th>...</th>\n",
       "      <th>Sunset</th>\n",
       "      <th>Depth</th>\n",
       "      <th>Water1</th>\n",
       "      <th>SnowFall</th>\n",
       "      <th>PrecipTotal</th>\n",
       "      <th>StnPressure</th>\n",
       "      <th>SeaLevel</th>\n",
       "      <th>ResultSpeed</th>\n",
       "      <th>ResultDir</th>\n",
       "      <th>AvgSpeed</th>\n",
       "    </tr>\n",
       "  </thead>\n",
       "  <tbody>\n",
       "    <tr>\n",
       "      <th>0</th>\n",
       "      <td>1</td>\n",
       "      <td>2007-05-01</td>\n",
       "      <td>83</td>\n",
       "      <td>50</td>\n",
       "      <td>67</td>\n",
       "      <td>14</td>\n",
       "      <td>51</td>\n",
       "      <td>56</td>\n",
       "      <td>0</td>\n",
       "      <td>2</td>\n",
       "      <td>...</td>\n",
       "      <td>1849</td>\n",
       "      <td>0</td>\n",
       "      <td>M</td>\n",
       "      <td>0.0</td>\n",
       "      <td>0.00</td>\n",
       "      <td>29.10</td>\n",
       "      <td>29.82</td>\n",
       "      <td>1.7</td>\n",
       "      <td>27</td>\n",
       "      <td>9.2</td>\n",
       "    </tr>\n",
       "    <tr>\n",
       "      <th>1</th>\n",
       "      <td>2</td>\n",
       "      <td>2007-05-01</td>\n",
       "      <td>84</td>\n",
       "      <td>52</td>\n",
       "      <td>68</td>\n",
       "      <td>M</td>\n",
       "      <td>51</td>\n",
       "      <td>57</td>\n",
       "      <td>0</td>\n",
       "      <td>3</td>\n",
       "      <td>...</td>\n",
       "      <td>-</td>\n",
       "      <td>M</td>\n",
       "      <td>M</td>\n",
       "      <td>M</td>\n",
       "      <td>0.00</td>\n",
       "      <td>29.18</td>\n",
       "      <td>29.82</td>\n",
       "      <td>2.7</td>\n",
       "      <td>25</td>\n",
       "      <td>9.6</td>\n",
       "    </tr>\n",
       "    <tr>\n",
       "      <th>2</th>\n",
       "      <td>1</td>\n",
       "      <td>2007-05-02</td>\n",
       "      <td>59</td>\n",
       "      <td>42</td>\n",
       "      <td>51</td>\n",
       "      <td>-3</td>\n",
       "      <td>42</td>\n",
       "      <td>47</td>\n",
       "      <td>14</td>\n",
       "      <td>0</td>\n",
       "      <td>...</td>\n",
       "      <td>1850</td>\n",
       "      <td>0</td>\n",
       "      <td>M</td>\n",
       "      <td>0.0</td>\n",
       "      <td>0.00</td>\n",
       "      <td>29.38</td>\n",
       "      <td>30.09</td>\n",
       "      <td>13.0</td>\n",
       "      <td>4</td>\n",
       "      <td>13.4</td>\n",
       "    </tr>\n",
       "    <tr>\n",
       "      <th>3</th>\n",
       "      <td>2</td>\n",
       "      <td>2007-05-02</td>\n",
       "      <td>60</td>\n",
       "      <td>43</td>\n",
       "      <td>52</td>\n",
       "      <td>M</td>\n",
       "      <td>42</td>\n",
       "      <td>47</td>\n",
       "      <td>13</td>\n",
       "      <td>0</td>\n",
       "      <td>...</td>\n",
       "      <td>-</td>\n",
       "      <td>M</td>\n",
       "      <td>M</td>\n",
       "      <td>M</td>\n",
       "      <td>0.00</td>\n",
       "      <td>29.44</td>\n",
       "      <td>30.08</td>\n",
       "      <td>13.3</td>\n",
       "      <td>2</td>\n",
       "      <td>13.4</td>\n",
       "    </tr>\n",
       "    <tr>\n",
       "      <th>4</th>\n",
       "      <td>1</td>\n",
       "      <td>2007-05-03</td>\n",
       "      <td>66</td>\n",
       "      <td>46</td>\n",
       "      <td>56</td>\n",
       "      <td>2</td>\n",
       "      <td>40</td>\n",
       "      <td>48</td>\n",
       "      <td>9</td>\n",
       "      <td>0</td>\n",
       "      <td>...</td>\n",
       "      <td>1851</td>\n",
       "      <td>0</td>\n",
       "      <td>M</td>\n",
       "      <td>0.0</td>\n",
       "      <td>0.00</td>\n",
       "      <td>29.39</td>\n",
       "      <td>30.12</td>\n",
       "      <td>11.7</td>\n",
       "      <td>7</td>\n",
       "      <td>11.9</td>\n",
       "    </tr>\n",
       "  </tbody>\n",
       "</table>\n",
       "<p>5 rows × 21 columns</p>\n",
       "</div>"
      ],
      "text/plain": [
       "   Station        Date  Tmax  Tmin Tavg Depart  DewPoint WetBulb Heat Cool  \\\n",
       "0        1  2007-05-01    83    50   67     14        51      56    0    2   \n",
       "1        2  2007-05-01    84    52   68      M        51      57    0    3   \n",
       "2        1  2007-05-02    59    42   51     -3        42      47   14    0   \n",
       "3        2  2007-05-02    60    43   52      M        42      47   13    0   \n",
       "4        1  2007-05-03    66    46   56      2        40      48    9    0   \n",
       "\n",
       "   ... Sunset Depth Water1 SnowFall PrecipTotal StnPressure SeaLevel  \\\n",
       "0  ...   1849     0      M      0.0        0.00       29.10    29.82   \n",
       "1  ...      -     M      M        M        0.00       29.18    29.82   \n",
       "2  ...   1850     0      M      0.0        0.00       29.38    30.09   \n",
       "3  ...      -     M      M        M        0.00       29.44    30.08   \n",
       "4  ...   1851     0      M      0.0        0.00       29.39    30.12   \n",
       "\n",
       "  ResultSpeed  ResultDir  AvgSpeed  \n",
       "0         1.7         27       9.2  \n",
       "1         2.7         25       9.6  \n",
       "2        13.0          4      13.4  \n",
       "3        13.3          2      13.4  \n",
       "4        11.7          7      11.9  \n",
       "\n",
       "[5 rows x 21 columns]"
      ]
     },
     "execution_count": 103,
     "metadata": {},
     "output_type": "execute_result"
    }
   ],
   "source": [
    "weather_df.head()"
   ]
  },
  {
   "cell_type": "code",
   "execution_count": 104,
   "metadata": {},
   "outputs": [],
   "source": [
    "weather_df['WetBulb'] = np.where(weather_df['WetBulb'] == 'M', 60, weather_df['WetBulb'])\n",
    "weather_df['WetBulb'] = weather_df['WetBulb'].astype('int32')\n",
    "weather_df['Tavg'] = np.mean(weather_df[['Tmax', 'Tmin']], axis=1)"
   ]
  },
  {
   "cell_type": "markdown",
   "metadata": {},
   "source": [
    "Let's divide station's 1 data from station's 2 and join them horisontal"
   ]
  },
  {
   "cell_type": "code",
   "execution_count": 105,
   "metadata": {},
   "outputs": [],
   "source": [
    "weather_stn1 = weather_df[weather_df['Station'] == 1]\n",
    "weather_stn2 = weather_df[weather_df['Station'] == 2]\n",
    "weather_stn1 = weather_stn1.drop('Station', axis=1)\n",
    "weather_stn2 = weather_stn2.drop('Station', axis=1)\n",
    "weather = weather_stn1.merge(weather_stn2, on='Date')"
   ]
  },
  {
   "cell_type": "markdown",
   "metadata": {},
   "source": [
    "Fill up unknown variables with '-1' and drop them"
   ]
  },
  {
   "cell_type": "code",
   "execution_count": 106,
   "metadata": {},
   "outputs": [],
   "source": [
    "weather = weather.replace('M', -1)\n",
    "weather = weather.replace('-', -1)\n",
    "weather = weather.replace('T', -1)\n",
    "weather = weather.replace(' T', -1)\n",
    "weather = weather.replace('  T', -1)\n",
    "weather = weather.loc[:, (weather != -1).any(axis=0)]"
   ]
  },
  {
   "cell_type": "markdown",
   "metadata": {},
   "source": [
    "Average all matching columns"
   ]
  },
  {
   "cell_type": "code",
   "execution_count": 107,
   "metadata": {},
   "outputs": [],
   "source": [
    "weather['Tmax'] = ((weather['Tmax_x'] + weather['Tmax_y']) / 2)\n",
    "weather['Tmin'] = (weather['Tmin_x'] + weather['Tmin_y']) / 2\n",
    "weather['Tavg'] = (weather['Tavg_x'].astype('float32') + weather['Tavg_y'].astype('float32')) / 2\n",
    "weather['DewPoint'] = (weather['DewPoint_x'] + weather['DewPoint_y']) / 2\n",
    "weather['WetBulb'] = (weather['WetBulb_x'].astype('float32') + weather['WetBulb_y'].astype('float32')) / 2\n",
    "weather['Heat'] = (weather['Heat_x'].astype('float32') + weather['Heat_y'].astype('float32')) / 2\n",
    "weather['Cool'] = (weather['Cool_x'].astype('float32') + weather['Cool_y'].astype('float32')) / 2\n",
    "weather['PrecipTotal'] = (weather['PrecipTotal_x'].astype('float32') + weather['PrecipTotal_y'].astype('float32')) / 2\n",
    "weather['StnPressure'] = (weather['StnPressure_x'].astype('float32') + weather['StnPressure_y'].astype('float32')) / 2\n",
    "weather['SeaLevel'] = (weather['SeaLevel_x'].astype('float32') + weather['SeaLevel_y'].astype('float32')) / 2\n",
    "weather['ResultSpeed'] = (weather['ResultSpeed_x'].astype('float32') + weather['ResultSpeed_y'].astype('float32')) / 2\n",
    "weather['ResultDir'] = (weather['ResultDir_x'].astype('float32') + weather['ResultDir_y'].astype('float32')) / 2\n",
    "weather['AvgSpeed'] = (weather['AvgSpeed_x'].astype('float32') + weather['AvgSpeed_y'].astype('float32')) / 2"
   ]
  },
  {
   "cell_type": "markdown",
   "metadata": {},
   "source": [
    "Set other columns to a float type"
   ]
  },
  {
   "cell_type": "code",
   "execution_count": 108,
   "metadata": {},
   "outputs": [],
   "source": [
    "weather[['Sunset_x', 'Depart_x', 'Sunrise_x']] = \\\n",
    "    weather[['Sunset_x', 'Depart_x', 'Sunrise_x']].astype('float32')"
   ]
  },
  {
   "cell_type": "markdown",
   "metadata": {},
   "source": [
    "Drop used columns"
   ]
  },
  {
   "cell_type": "code",
   "execution_count": 109,
   "metadata": {},
   "outputs": [],
   "source": [
    "weather = weather.drop(['Tmax_x', 'Tmax_y', 'Tmin_x', 'Tmin_y', 'Tavg_x', 'Tavg_y', 'DewPoint_x',\n",
    "                        'DewPoint_y', 'WetBulb_x', 'WetBulb_y', 'Cool_y', 'Cool_x', 'Heat_x',\n",
    "                        'Heat_y', 'PrecipTotal_x', 'PrecipTotal_y', 'StnPressure_x', 'StnPressure_y',\n",
    "                        'SeaLevel_x', 'SeaLevel_y', 'ResultSpeed_x', 'ResultSpeed_y', 'ResultDir_x',\n",
    "                        'ResultDir_y', 'AvgSpeed_x', 'AvgSpeed_y', 'SnowFall_x', 'Depth_x'], axis=1)"
   ]
  },
  {
   "cell_type": "markdown",
   "metadata": {},
   "source": [
    "Let's create a function to produce a lagged data(data that was represented certain days ago) "
   ]
  },
  {
   "cell_type": "code",
   "execution_count": 110,
   "metadata": {},
   "outputs": [],
   "source": [
    "def lagged(data_frame, column, lag):\n",
    "\n",
    "    return data_frame[column].shift(lag)"
   ]
  },
  {
   "cell_type": "code",
   "execution_count": 111,
   "metadata": {},
   "outputs": [],
   "source": [
    "weather['TmaxLag3'] = lagged(weather, 'Tmax', 3)\n",
    "weather['TmaxLag7'] = lagged(weather, 'Tmax', 7)\n",
    "\n",
    "weather['TminLag3'] = lagged(weather, 'Tmin', 3)\n",
    "weather['TminLag7'] = lagged(weather, 'Tmin', 7)\n",
    "\n",
    "weather['TavgLag3'] = lagged(weather, 'Tavg', 3)\n",
    "weather['TavgLag7'] = lagged(weather, 'Tavg', 7)"
   ]
  },
  {
   "cell_type": "code",
   "execution_count": 112,
   "metadata": {},
   "outputs": [
    {
     "data": {
      "text/html": [
       "<div>\n",
       "<style scoped>\n",
       "    .dataframe tbody tr th:only-of-type {\n",
       "        vertical-align: middle;\n",
       "    }\n",
       "\n",
       "    .dataframe tbody tr th {\n",
       "        vertical-align: top;\n",
       "    }\n",
       "\n",
       "    .dataframe thead th {\n",
       "        text-align: right;\n",
       "    }\n",
       "</style>\n",
       "<table border=\"1\" class=\"dataframe\">\n",
       "  <thead>\n",
       "    <tr style=\"text-align: right;\">\n",
       "      <th></th>\n",
       "      <th>Date</th>\n",
       "      <th>Depart_x</th>\n",
       "      <th>Sunrise_x</th>\n",
       "      <th>Sunset_x</th>\n",
       "      <th>Tmax</th>\n",
       "      <th>Tmin</th>\n",
       "      <th>Tavg</th>\n",
       "      <th>DewPoint</th>\n",
       "      <th>WetBulb</th>\n",
       "      <th>Heat</th>\n",
       "      <th>...</th>\n",
       "      <th>SeaLevel</th>\n",
       "      <th>ResultSpeed</th>\n",
       "      <th>ResultDir</th>\n",
       "      <th>AvgSpeed</th>\n",
       "      <th>TmaxLag3</th>\n",
       "      <th>TmaxLag7</th>\n",
       "      <th>TminLag3</th>\n",
       "      <th>TminLag7</th>\n",
       "      <th>TavgLag3</th>\n",
       "      <th>TavgLag7</th>\n",
       "    </tr>\n",
       "  </thead>\n",
       "  <tbody>\n",
       "    <tr>\n",
       "      <th>0</th>\n",
       "      <td>2007-05-01</td>\n",
       "      <td>14.0</td>\n",
       "      <td>448.0</td>\n",
       "      <td>1849.0</td>\n",
       "      <td>83.5</td>\n",
       "      <td>51.0</td>\n",
       "      <td>67.25</td>\n",
       "      <td>51.0</td>\n",
       "      <td>56.5</td>\n",
       "      <td>0.0</td>\n",
       "      <td>...</td>\n",
       "      <td>29.820000</td>\n",
       "      <td>2.200000</td>\n",
       "      <td>26.0</td>\n",
       "      <td>9.400000</td>\n",
       "      <td>NaN</td>\n",
       "      <td>NaN</td>\n",
       "      <td>NaN</td>\n",
       "      <td>NaN</td>\n",
       "      <td>NaN</td>\n",
       "      <td>NaN</td>\n",
       "    </tr>\n",
       "    <tr>\n",
       "      <th>1</th>\n",
       "      <td>2007-05-02</td>\n",
       "      <td>-3.0</td>\n",
       "      <td>447.0</td>\n",
       "      <td>1850.0</td>\n",
       "      <td>59.5</td>\n",
       "      <td>42.5</td>\n",
       "      <td>51.00</td>\n",
       "      <td>42.0</td>\n",
       "      <td>47.0</td>\n",
       "      <td>13.5</td>\n",
       "      <td>...</td>\n",
       "      <td>30.084999</td>\n",
       "      <td>13.150000</td>\n",
       "      <td>3.0</td>\n",
       "      <td>13.400000</td>\n",
       "      <td>NaN</td>\n",
       "      <td>NaN</td>\n",
       "      <td>NaN</td>\n",
       "      <td>NaN</td>\n",
       "      <td>NaN</td>\n",
       "      <td>NaN</td>\n",
       "    </tr>\n",
       "    <tr>\n",
       "      <th>2</th>\n",
       "      <td>2007-05-03</td>\n",
       "      <td>2.0</td>\n",
       "      <td>446.0</td>\n",
       "      <td>1851.0</td>\n",
       "      <td>66.5</td>\n",
       "      <td>47.0</td>\n",
       "      <td>56.75</td>\n",
       "      <td>40.0</td>\n",
       "      <td>49.0</td>\n",
       "      <td>8.0</td>\n",
       "      <td>...</td>\n",
       "      <td>30.120001</td>\n",
       "      <td>12.299999</td>\n",
       "      <td>6.5</td>\n",
       "      <td>12.549999</td>\n",
       "      <td>NaN</td>\n",
       "      <td>NaN</td>\n",
       "      <td>NaN</td>\n",
       "      <td>NaN</td>\n",
       "      <td>NaN</td>\n",
       "      <td>NaN</td>\n",
       "    </tr>\n",
       "    <tr>\n",
       "      <th>3</th>\n",
       "      <td>2007-05-04</td>\n",
       "      <td>4.0</td>\n",
       "      <td>444.0</td>\n",
       "      <td>1852.0</td>\n",
       "      <td>72.0</td>\n",
       "      <td>50.0</td>\n",
       "      <td>61.00</td>\n",
       "      <td>41.5</td>\n",
       "      <td>50.0</td>\n",
       "      <td>3.0</td>\n",
       "      <td>...</td>\n",
       "      <td>30.045000</td>\n",
       "      <td>10.250000</td>\n",
       "      <td>7.5</td>\n",
       "      <td>10.600000</td>\n",
       "      <td>83.5</td>\n",
       "      <td>NaN</td>\n",
       "      <td>51.0</td>\n",
       "      <td>NaN</td>\n",
       "      <td>67.25</td>\n",
       "      <td>NaN</td>\n",
       "    </tr>\n",
       "    <tr>\n",
       "      <th>4</th>\n",
       "      <td>2007-05-05</td>\n",
       "      <td>5.0</td>\n",
       "      <td>443.0</td>\n",
       "      <td>1853.0</td>\n",
       "      <td>66.0</td>\n",
       "      <td>53.5</td>\n",
       "      <td>59.75</td>\n",
       "      <td>38.5</td>\n",
       "      <td>49.5</td>\n",
       "      <td>5.0</td>\n",
       "      <td>...</td>\n",
       "      <td>30.095001</td>\n",
       "      <td>11.450000</td>\n",
       "      <td>7.0</td>\n",
       "      <td>11.750000</td>\n",
       "      <td>59.5</td>\n",
       "      <td>NaN</td>\n",
       "      <td>42.5</td>\n",
       "      <td>NaN</td>\n",
       "      <td>51.00</td>\n",
       "      <td>NaN</td>\n",
       "    </tr>\n",
       "  </tbody>\n",
       "</table>\n",
       "<p>5 rows × 23 columns</p>\n",
       "</div>"
      ],
      "text/plain": [
       "         Date  Depart_x  Sunrise_x  Sunset_x  Tmax  Tmin   Tavg  DewPoint  \\\n",
       "0  2007-05-01      14.0      448.0    1849.0  83.5  51.0  67.25      51.0   \n",
       "1  2007-05-02      -3.0      447.0    1850.0  59.5  42.5  51.00      42.0   \n",
       "2  2007-05-03       2.0      446.0    1851.0  66.5  47.0  56.75      40.0   \n",
       "3  2007-05-04       4.0      444.0    1852.0  72.0  50.0  61.00      41.5   \n",
       "4  2007-05-05       5.0      443.0    1853.0  66.0  53.5  59.75      38.5   \n",
       "\n",
       "   WetBulb  Heat  ...   SeaLevel  ResultSpeed  ResultDir   AvgSpeed  TmaxLag3  \\\n",
       "0     56.5   0.0  ...  29.820000     2.200000       26.0   9.400000       NaN   \n",
       "1     47.0  13.5  ...  30.084999    13.150000        3.0  13.400000       NaN   \n",
       "2     49.0   8.0  ...  30.120001    12.299999        6.5  12.549999       NaN   \n",
       "3     50.0   3.0  ...  30.045000    10.250000        7.5  10.600000      83.5   \n",
       "4     49.5   5.0  ...  30.095001    11.450000        7.0  11.750000      59.5   \n",
       "\n",
       "   TmaxLag7  TminLag3  TminLag7  TavgLag3  TavgLag7  \n",
       "0       NaN       NaN       NaN       NaN       NaN  \n",
       "1       NaN       NaN       NaN       NaN       NaN  \n",
       "2       NaN       NaN       NaN       NaN       NaN  \n",
       "3       NaN      51.0       NaN     67.25       NaN  \n",
       "4       NaN      42.5       NaN     51.00       NaN  \n",
       "\n",
       "[5 rows x 23 columns]"
      ]
     },
     "execution_count": 112,
     "metadata": {},
     "output_type": "execute_result"
    }
   ],
   "source": [
    "weather.head()"
   ]
  },
  {
   "cell_type": "code",
   "execution_count": 113,
   "metadata": {},
   "outputs": [
    {
     "data": {
      "text/plain": [
       "Index(['Date', 'Depart_x', 'Sunrise_x', 'Sunset_x', 'Tmax', 'Tmin', 'Tavg',\n",
       "       'DewPoint', 'WetBulb', 'Heat', 'Cool', 'PrecipTotal', 'StnPressure',\n",
       "       'SeaLevel', 'ResultSpeed', 'ResultDir', 'AvgSpeed', 'TmaxLag3',\n",
       "       'TmaxLag7', 'TminLag3', 'TminLag7', 'TavgLag3', 'TavgLag7'],\n",
       "      dtype='object')"
      ]
     },
     "execution_count": 113,
     "metadata": {},
     "output_type": "execute_result"
    }
   ],
   "source": [
    "weather.columns"
   ]
  },
  {
   "cell_type": "markdown",
   "metadata": {},
   "source": [
    "Define functions to extract day and month from Date"
   ]
  },
  {
   "cell_type": "code",
   "execution_count": 114,
   "metadata": {},
   "outputs": [],
   "source": [
    "def month(column):\n",
    "    return column.split('-')[1]\n",
    "\n",
    "\n",
    "def day(column):\n",
    "    return column.split('-')[2]"
   ]
  },
  {
   "cell_type": "code",
   "execution_count": 115,
   "metadata": {},
   "outputs": [],
   "source": [
    "weather['Month'] = weather['Date'].apply(month).astype('int32')\n",
    "weather['Day'] = weather['Date'].apply(day).astype('int32')"
   ]
  },
  {
   "cell_type": "code",
   "execution_count": 116,
   "metadata": {},
   "outputs": [
    {
     "data": {
      "text/plain": [
       "Index(['Date', 'Depart_x', 'Sunrise_x', 'Sunset_x', 'Tmax', 'Tmin', 'Tavg',\n",
       "       'DewPoint', 'WetBulb', 'Heat', 'Cool', 'PrecipTotal', 'StnPressure',\n",
       "       'SeaLevel', 'ResultSpeed', 'ResultDir', 'AvgSpeed', 'TmaxLag3',\n",
       "       'TmaxLag7', 'TminLag3', 'TminLag7', 'TavgLag3', 'TavgLag7', 'Month',\n",
       "       'Day'],\n",
       "      dtype='object')"
      ]
     },
     "execution_count": 116,
     "metadata": {},
     "output_type": "execute_result"
    }
   ],
   "source": [
    "weather.columns"
   ]
  },
  {
   "cell_type": "code",
   "execution_count": 119,
   "metadata": {},
   "outputs": [],
   "source": [
    "merged_df = pd.merge(\n",
    "    left=df,\n",
    "    right=weather,\n",
    "    on='Date',\n",
    "    how='left'\n",
    ")"
   ]
  },
  {
   "cell_type": "code",
   "execution_count": 120,
   "metadata": {},
   "outputs": [
    {
     "data": {
      "text/html": [
       "<div>\n",
       "<style scoped>\n",
       "    .dataframe tbody tr th:only-of-type {\n",
       "        vertical-align: middle;\n",
       "    }\n",
       "\n",
       "    .dataframe tbody tr th {\n",
       "        vertical-align: top;\n",
       "    }\n",
       "\n",
       "    .dataframe thead th {\n",
       "        text-align: right;\n",
       "    }\n",
       "</style>\n",
       "<table border=\"1\" class=\"dataframe\">\n",
       "  <thead>\n",
       "    <tr style=\"text-align: right;\">\n",
       "      <th></th>\n",
       "      <th>Date</th>\n",
       "      <th>Address</th>\n",
       "      <th>Species</th>\n",
       "      <th>Block</th>\n",
       "      <th>Street</th>\n",
       "      <th>Trap</th>\n",
       "      <th>AddressNumberAndStreet</th>\n",
       "      <th>Latitude</th>\n",
       "      <th>Longitude</th>\n",
       "      <th>AddressAccuracy</th>\n",
       "      <th>...</th>\n",
       "      <th>ResultDir</th>\n",
       "      <th>AvgSpeed</th>\n",
       "      <th>TmaxLag3</th>\n",
       "      <th>TmaxLag7</th>\n",
       "      <th>TminLag3</th>\n",
       "      <th>TminLag7</th>\n",
       "      <th>TavgLag3</th>\n",
       "      <th>TavgLag7</th>\n",
       "      <th>Month</th>\n",
       "      <th>Day</th>\n",
       "    </tr>\n",
       "  </thead>\n",
       "  <tbody>\n",
       "    <tr>\n",
       "      <th>0</th>\n",
       "      <td>2007-05-29</td>\n",
       "      <td>4100 North Oak Park Avenue, Chicago, IL 60634,...</td>\n",
       "      <td>1</td>\n",
       "      <td>41</td>\n",
       "      <td>N OAK PARK AVE</td>\n",
       "      <td>T002</td>\n",
       "      <td>4100  N OAK PARK AVE, Chicago, IL</td>\n",
       "      <td>41.954690</td>\n",
       "      <td>-87.800991</td>\n",
       "      <td>9</td>\n",
       "      <td>...</td>\n",
       "      <td>17.0</td>\n",
       "      <td>6.95</td>\n",
       "      <td>67.5</td>\n",
       "      <td>87.0</td>\n",
       "      <td>49.5</td>\n",
       "      <td>57.5</td>\n",
       "      <td>58.5</td>\n",
       "      <td>72.25</td>\n",
       "      <td>5</td>\n",
       "      <td>29</td>\n",
       "    </tr>\n",
       "    <tr>\n",
       "      <th>1</th>\n",
       "      <td>2007-05-29</td>\n",
       "      <td>4100 North Oak Park Avenue, Chicago, IL 60634,...</td>\n",
       "      <td>1</td>\n",
       "      <td>41</td>\n",
       "      <td>N OAK PARK AVE</td>\n",
       "      <td>T002</td>\n",
       "      <td>4100  N OAK PARK AVE, Chicago, IL</td>\n",
       "      <td>41.954690</td>\n",
       "      <td>-87.800991</td>\n",
       "      <td>9</td>\n",
       "      <td>...</td>\n",
       "      <td>17.0</td>\n",
       "      <td>6.95</td>\n",
       "      <td>67.5</td>\n",
       "      <td>87.0</td>\n",
       "      <td>49.5</td>\n",
       "      <td>57.5</td>\n",
       "      <td>58.5</td>\n",
       "      <td>72.25</td>\n",
       "      <td>5</td>\n",
       "      <td>29</td>\n",
       "    </tr>\n",
       "    <tr>\n",
       "      <th>2</th>\n",
       "      <td>2007-05-29</td>\n",
       "      <td>6200 North Mandell Avenue, Chicago, IL 60646, USA</td>\n",
       "      <td>1</td>\n",
       "      <td>62</td>\n",
       "      <td>N MANDELL AVE</td>\n",
       "      <td>T007</td>\n",
       "      <td>6200  N MANDELL AVE, Chicago, IL</td>\n",
       "      <td>41.994991</td>\n",
       "      <td>-87.769279</td>\n",
       "      <td>9</td>\n",
       "      <td>...</td>\n",
       "      <td>17.0</td>\n",
       "      <td>6.95</td>\n",
       "      <td>67.5</td>\n",
       "      <td>87.0</td>\n",
       "      <td>49.5</td>\n",
       "      <td>57.5</td>\n",
       "      <td>58.5</td>\n",
       "      <td>72.25</td>\n",
       "      <td>5</td>\n",
       "      <td>29</td>\n",
       "    </tr>\n",
       "    <tr>\n",
       "      <th>3</th>\n",
       "      <td>2007-05-29</td>\n",
       "      <td>7900 West Foster Avenue, Chicago, IL 60656, USA</td>\n",
       "      <td>1</td>\n",
       "      <td>79</td>\n",
       "      <td>W FOSTER AVE</td>\n",
       "      <td>T015</td>\n",
       "      <td>7900  W FOSTER AVE, Chicago, IL</td>\n",
       "      <td>41.974089</td>\n",
       "      <td>-87.824812</td>\n",
       "      <td>8</td>\n",
       "      <td>...</td>\n",
       "      <td>17.0</td>\n",
       "      <td>6.95</td>\n",
       "      <td>67.5</td>\n",
       "      <td>87.0</td>\n",
       "      <td>49.5</td>\n",
       "      <td>57.5</td>\n",
       "      <td>58.5</td>\n",
       "      <td>72.25</td>\n",
       "      <td>5</td>\n",
       "      <td>29</td>\n",
       "    </tr>\n",
       "    <tr>\n",
       "      <th>4</th>\n",
       "      <td>2007-05-29</td>\n",
       "      <td>7900 West Foster Avenue, Chicago, IL 60656, USA</td>\n",
       "      <td>1</td>\n",
       "      <td>79</td>\n",
       "      <td>W FOSTER AVE</td>\n",
       "      <td>T015</td>\n",
       "      <td>7900  W FOSTER AVE, Chicago, IL</td>\n",
       "      <td>41.974089</td>\n",
       "      <td>-87.824812</td>\n",
       "      <td>8</td>\n",
       "      <td>...</td>\n",
       "      <td>17.0</td>\n",
       "      <td>6.95</td>\n",
       "      <td>67.5</td>\n",
       "      <td>87.0</td>\n",
       "      <td>49.5</td>\n",
       "      <td>57.5</td>\n",
       "      <td>58.5</td>\n",
       "      <td>72.25</td>\n",
       "      <td>5</td>\n",
       "      <td>29</td>\n",
       "    </tr>\n",
       "  </tbody>\n",
       "</table>\n",
       "<p>5 rows × 36 columns</p>\n",
       "</div>"
      ],
      "text/plain": [
       "         Date                                            Address  Species  \\\n",
       "0  2007-05-29  4100 North Oak Park Avenue, Chicago, IL 60634,...        1   \n",
       "1  2007-05-29  4100 North Oak Park Avenue, Chicago, IL 60634,...        1   \n",
       "2  2007-05-29  6200 North Mandell Avenue, Chicago, IL 60646, USA        1   \n",
       "3  2007-05-29    7900 West Foster Avenue, Chicago, IL 60656, USA        1   \n",
       "4  2007-05-29    7900 West Foster Avenue, Chicago, IL 60656, USA        1   \n",
       "\n",
       "   Block           Street  Trap             AddressNumberAndStreet   Latitude  \\\n",
       "0     41   N OAK PARK AVE  T002  4100  N OAK PARK AVE, Chicago, IL  41.954690   \n",
       "1     41   N OAK PARK AVE  T002  4100  N OAK PARK AVE, Chicago, IL  41.954690   \n",
       "2     62    N MANDELL AVE  T007   6200  N MANDELL AVE, Chicago, IL  41.994991   \n",
       "3     79     W FOSTER AVE  T015    7900  W FOSTER AVE, Chicago, IL  41.974089   \n",
       "4     79     W FOSTER AVE  T015    7900  W FOSTER AVE, Chicago, IL  41.974089   \n",
       "\n",
       "   Longitude  AddressAccuracy  ...  ResultDir  AvgSpeed  TmaxLag3  TmaxLag7  \\\n",
       "0 -87.800991                9  ...       17.0      6.95      67.5      87.0   \n",
       "1 -87.800991                9  ...       17.0      6.95      67.5      87.0   \n",
       "2 -87.769279                9  ...       17.0      6.95      67.5      87.0   \n",
       "3 -87.824812                8  ...       17.0      6.95      67.5      87.0   \n",
       "4 -87.824812                8  ...       17.0      6.95      67.5      87.0   \n",
       "\n",
       "   TminLag3  TminLag7  TavgLag3  TavgLag7  Month  Day  \n",
       "0      49.5      57.5      58.5     72.25      5   29  \n",
       "1      49.5      57.5      58.5     72.25      5   29  \n",
       "2      49.5      57.5      58.5     72.25      5   29  \n",
       "3      49.5      57.5      58.5     72.25      5   29  \n",
       "4      49.5      57.5      58.5     72.25      5   29  \n",
       "\n",
       "[5 rows x 36 columns]"
      ]
     },
     "execution_count": 120,
     "metadata": {},
     "output_type": "execute_result"
    }
   ],
   "source": [
    "merged_df.head()"
   ]
  },
  {
   "cell_type": "code",
   "execution_count": 121,
   "metadata": {},
   "outputs": [],
   "source": [
    "X, y = merged_df[[col for col in merged_df.columns if col != 'WnvPresent']],\\\n",
    "       merged_df['WnvPresent']"
   ]
  },
  {
   "cell_type": "code",
   "execution_count": 122,
   "metadata": {},
   "outputs": [],
   "source": [
    "X[['Sunset_x', 'Depart_x', 'Sunrise_x']] = \\\n",
    "    X[['Sunset_x', 'Depart_x', 'Sunrise_x']].astype('float32')"
   ]
  },
  {
   "cell_type": "code",
   "execution_count": 125,
   "metadata": {},
   "outputs": [],
   "source": [
    "X = X.drop(['Date', 'Trap', 'PrecipTotal', 'SeaLevel', 'Tmax', 'ResultDir', 'ResultSpeed',\n",
    "            'Heat', 'StnPressure', 'DewPoint', 'WetBulb', 'Day', 'Month', 'AvgSpeed', 'TmaxLag3',\n",
    "            'TmaxLag7', 'TminLag7', 'Tmin', 'Depart_x', 'Cool', 'Address', 'Block', 'Street',\n",
    "            'AddressNumberAndStreet', 'Latitude', 'Longitude', 'AddressAccuracy'], axis=1)"
   ]
  },
  {
   "cell_type": "code",
   "execution_count": 139,
   "metadata": {},
   "outputs": [],
   "source": [
    "def checker(X, y):\n",
    "    from sklearn.metrics import roc_auc_score\n",
    "    from sklearn.linear_model import LogisticRegression\n",
    "    from matplotlib import pyplot as plt\n",
    "\n",
    "    mdl = LogisticRegression().fit(X, y)\n",
    "    \n",
    "    original_auc = roc_auc_score(y, mdl.predict_proba(X)[:, 1])\n",
    "    print('AUC оригинальной модели: ', original_auc)\n",
    "\n",
    "    \n",
    "    np.random.seed(21)\n",
    "\n",
    "    \n",
    "    diffs = []  \n",
    "    for var in X.columns:\n",
    "        X_test_upd = X.copy()  \n",
    "        X_test_upd[var] = np.random.permutation(X_test_upd[var].values)  \n",
    "        new_auc = roc_auc_score(y, mdl.predict_proba(X_test_upd)[:, 1])  \n",
    "        diff = abs(new_auc - original_auc) / original_auc  \n",
    "        diffs.append(diff)\n",
    "\n",
    "    \n",
    "    plt.bar(X.columns, diffs)\n",
    "    plt.show()"
   ]
  },
  {
   "cell_type": "code",
   "execution_count": 140,
   "metadata": {},
   "outputs": [
    {
     "name": "stderr",
     "output_type": "stream",
     "text": [
      "/home/durnik/itea_dir/my_project_env/lib/python3.7/site-packages/sklearn/linear_model/_logistic.py:940: ConvergenceWarning: lbfgs failed to converge (status=1):\n",
      "STOP: TOTAL NO. of ITERATIONS REACHED LIMIT.\n",
      "\n",
      "Increase the number of iterations (max_iter) or scale the data as shown in:\n",
      "    https://scikit-learn.org/stable/modules/preprocessing.html\n",
      "Please also refer to the documentation for alternative solver options:\n",
      "    https://scikit-learn.org/stable/modules/linear_model.html#logistic-regression\n",
      "  extra_warning_msg=_LOGISTIC_SOLVER_CONVERGENCE_MSG)\n"
     ]
    },
    {
     "name": "stdout",
     "output_type": "stream",
     "text": [
      "AUC оригинальной модели:  0.7753761397132516\n"
     ]
    },
    {
     "data": {
      "image/png": "[encoded data removed]",
      "text/plain": [
       "<Figure size 432x288 with 1 Axes>"
      ]
     },
     "metadata": {
      "needs_background": "light"
     },
     "output_type": "display_data"
    }
   ],
   "source": [
    "checker(X, y)"
   ]
  },
  {
   "cell_type": "markdown",
   "metadata": {},
   "source": [
    "Model testing"
   ]
  },
  {
   "cell_type": "markdown",
   "metadata": {},
   "source": [
    "Logistic Regression"
   ]
  },
  {
   "cell_type": "code",
   "execution_count": 126,
   "metadata": {},
   "outputs": [],
   "source": [
    "def logistic_func(X, y):\n",
    "\n",
    "    \"\"\"\n",
    "    :param X: data on what model should learn\n",
    "    :param y: target function\n",
    "    :return: AUC test\n",
    "    \"\"\"\n",
    "\n",
    "    from sklearn.linear_model import LogisticRegression\n",
    "    from sklearn.metrics import auc, roc_curve\n",
    "    from sklearn.model_selection import train_test_split\n",
    "    from matplotlib import pyplot as plt\n",
    "\n",
    "    X_train, X_test, y_train, y_test = train_test_split(\n",
    "        X,\n",
    "        y,\n",
    "        test_size=0.2,\n",
    "        random_state=21\n",
    "    )\n",
    "    mdl = LogisticRegression().fit(X_train, y_train)  # оценим модель\n",
    "\n",
    "    for var_name, coef_value in zip(X.columns, mdl.coef_[0]):\n",
    "        print(var_name, ': ', coef_value)\n",
    "\n",
    "    \n",
    "    train_preds, test_preds = mdl.predict_proba(X_train)[:, 1], mdl.predict_proba(X_test)[:, 1]\n",
    "\n",
    "    \n",
    "    train_fpr, train_tpr, _ = roc_curve(y_train, train_preds)\n",
    "    test_fpr, test_tpr, _ = roc_curve(y_test, test_preds)\n",
    "\n",
    "    \n",
    "    train_auc, test_auc = np.round(auc(train_fpr, train_tpr), 4), np.round(auc(test_fpr, test_tpr), 4)\n",
    "\n",
    "    \n",
    "    plt.plot(train_fpr, train_tpr, label=f'AUC на обучающем наборе: {train_auc}')\n",
    "    plt.plot(test_fpr, test_tpr, label=f'AUC на тестовом наборе: {test_auc}')\n",
    "    plt.legend()  \n",
    "    plt.show()"
   ]
  },
  {
   "cell_type": "code",
   "execution_count": 134,
   "metadata": {},
   "outputs": [
    {
     "name": "stdout",
     "output_type": "stream",
     "text": [
      "Species :  0.006122225361894855\n",
      "NumMosquitos :  0.03648181909589322\n",
      "Sunrise_x :  0.004622858871415691\n",
      "Sunset_x :  -0.006570205851706136\n",
      "Tavg :  0.03327315616482783\n",
      "TminLag3 :  0.04144755644250419\n",
      "TavgLag3 :  -0.025510076306054275\n",
      "TavgLag7 :  0.044618155046814025\n"
     ]
    },
    {
     "data": {
      "image/png": "[encoded data removed]",
      "text/plain": [
       "<Figure size 432x288 with 1 Axes>"
      ]
     },
     "metadata": {
      "needs_background": "light"
     },
     "output_type": "display_data"
    }
   ],
   "source": [
    "logistic_func(X, y)"
   ]
  },
  {
   "cell_type": "code",
   "execution_count": 146,
   "metadata": {},
   "outputs": [],
   "source": [
    "np.random.seed(42)"
   ]
  },
  {
   "cell_type": "markdown",
   "metadata": {},
   "source": [
    "Clasification Tree"
   ]
  },
  {
   "cell_type": "code",
   "execution_count": 165,
   "metadata": {},
   "outputs": [],
   "source": [
    "def DTC(X, y):\n",
    "    from sklearn.model_selection import train_test_split\n",
    "    from sklearn.metrics import roc_auc_score\n",
    "    from sklearn.tree import DecisionTreeClassifier\n",
    "\n",
    "    X_train, X_test, y_train, y_test = train_test_split(X, y, test_size=0.2, random_state=42)\n",
    "\n",
    "   \n",
    "    mdl = DecisionTreeClassifier(max_depth=3).fit(X_train, y_train)\n",
    "\n",
    "   \n",
    "    predictions = mdl.predict_proba(X_test)\n",
    "    auc = roc_auc_score(y_test, mdl.predict_proba(X_test)[:,1])\n",
    "    print(auc)"
   ]
  },
  {
   "cell_type": "code",
   "execution_count": 166,
   "metadata": {},
   "outputs": [
    {
     "name": "stdout",
     "output_type": "stream",
     "text": [
      "0.7917175680845024\n"
     ]
    }
   ],
   "source": [
    "DTC(X, y)"
   ]
  },
  {
   "cell_type": "markdown",
   "metadata": {},
   "source": [
    "Random Forest"
   ]
  },
  {
   "cell_type": "code",
   "execution_count": 157,
   "metadata": {},
   "outputs": [],
   "source": [
    "def RFC(X, y):\n",
    "    from sklearn.ensemble import RandomForestClassifier\n",
    "    from sklearn.model_selection import train_test_split\n",
    "    from sklearn.metrics import roc_auc_score\n",
    "    \n",
    "    X_train, X_test, y_train, y_test = train_test_split(X, y, test_size=0.2)\n",
    "    mdl = RandomForestClassifier(\n",
    "        n_estimators=80,  \n",
    "        criterion='gini',  \n",
    "        max_depth=3,  \n",
    "        min_samples_split=10,  \n",
    "        min_samples_leaf=5,  \n",
    "        max_features=0.8,  \n",
    "        bootstrap=True,  \n",
    "        max_samples=0.8,  \n",
    "        random_state=42  \n",
    "    )\n",
    "\n",
    "    mdl = mdl.fit(X_train, y_train) \n",
    "\n",
    "    auc = roc_auc_score(y_test, mdl.predict_proba(X_test)[:,1])\n",
    "\n",
    "    print(auc)"
   ]
  },
  {
   "cell_type": "code",
   "execution_count": 162,
   "metadata": {},
   "outputs": [
    {
     "name": "stdout",
     "output_type": "stream",
     "text": [
      "0.8447414694780881\n"
     ]
    }
   ],
   "source": [
    "RFC(X, y)"
   ]
  },
  {
   "cell_type": "markdown",
   "metadata": {},
   "source": [
    "Boosting"
   ]
  },
  {
   "cell_type": "code",
   "execution_count": 142,
   "metadata": {},
   "outputs": [],
   "source": [
    "def boosting(X, y, cv=0):\n",
    "\n",
    "    import xgboost as xgb\n",
    "    from sklearn.model_selection import train_test_split, GridSearchCV\n",
    "\n",
    "    X_train, X_test, y_train, y_test = train_test_split(X, y, test_size=0.2)\n",
    "    dtrain = xgb.DMatrix(X_train, y_train)\n",
    "    dtest = xgb.DMatrix(X_test, y_test)\n",
    "\n",
    "    params = {\n",
    "        'objective': 'binary:logistic',  # целевая функция, которую мы будем минимизировать\n",
    "        'learning_rate': 0.1,  # параметр скорости обучения\n",
    "        'subsample': 0.8,  # доля наблюдений, который будет использован в каждом дереве\n",
    "        'colsample_bytree': 0.8,  # доля переменных, которая будет использована в каждом дереве\n",
    "        'colsample_bylevel': 0.8,  # доля переменных, которая будет использована при каждой разбивке\n",
    "        'lambda': 0.5,  # параметр L2 регуляризации\n",
    "        'gamma': 1.,  # параметр регуляризации, который накладывает ограничение на размер дерева\n",
    "        'max_depth': 4,  # максимальная глубина каждого дерева\n",
    "        'min_child_weight': 3,  # параметр, определяющий минимальный размер листа\n",
    "        'eval_metric': 'auc',  # метрика качества модели\n",
    "        'silent': 1,  # выводить ли промежуточные вычисления на экран\n",
    "        'seed': 42  # фиксация случайного состояния\n",
    "    }\n",
    "\n",
    "    mdl = xgb.train(\n",
    "        params=params,\n",
    "        dtrain=dtrain,\n",
    "        num_boost_round=500,  \n",
    "        early_stopping_rounds=20,  \n",
    "        evals=[(dtrain, 'Train'), (dtest, 'Test')]\n",
    "    )\n",
    "\n",
    "   \n",
    "\n",
    "    if cv == 1:\n",
    "\n",
    "        cv_results = xgb.cv(\n",
    "            params=params,\n",
    "            dtrain=dtrain,\n",
    "            num_boost_round=500,\n",
    "            early_stopping_rounds=20,\n",
    "            nfold=4, \n",
    "            verbose_eval=True  \n",
    "        )"
   ]
  },
  {
   "cell_type": "code",
   "execution_count": 176,
   "metadata": {},
   "outputs": [
    {
     "name": "stdout",
     "output_type": "stream",
     "text": [
      "[0]\tTrain-auc:0.79664\tTest-auc:0.77166\n",
      "Multiple eval metrics have been passed: 'Test-auc' will be used for early stopping.\n",
      "\n",
      "Will train until Test-auc hasn't improved in 20 rounds.\n",
      "[1]\tTrain-auc:0.84801\tTest-auc:0.83871\n",
      "[2]\tTrain-auc:0.85686\tTest-auc:0.84439\n",
      "[3]\tTrain-auc:0.86170\tTest-auc:0.85937\n",
      "[4]\tTrain-auc:0.86210\tTest-auc:0.86036\n",
      "[5]\tTrain-auc:0.86121\tTest-auc:0.85627\n",
      "[6]\tTrain-auc:0.85852\tTest-auc:0.85132\n",
      "[7]\tTrain-auc:0.86431\tTest-auc:0.86266\n",
      "[8]\tTrain-auc:0.86200\tTest-auc:0.85688\n",
      "[9]\tTrain-auc:0.86503\tTest-auc:0.86342\n",
      "[10]\tTrain-auc:0.86825\tTest-auc:0.86324\n",
      "[11]\tTrain-auc:0.86960\tTest-auc:0.86567\n",
      "[12]\tTrain-auc:0.87137\tTest-auc:0.86780\n",
      "[13]\tTrain-auc:0.87232\tTest-auc:0.86725\n",
      "[14]\tTrain-auc:0.87198\tTest-auc:0.86653\n",
      "[15]\tTrain-auc:0.87330\tTest-auc:0.86655\n",
      "[16]\tTrain-auc:0.87316\tTest-auc:0.86774\n",
      "[17]\tTrain-auc:0.87482\tTest-auc:0.87263\n",
      "[18]\tTrain-auc:0.87626\tTest-auc:0.87052\n",
      "[19]\tTrain-auc:0.87608\tTest-auc:0.87111\n",
      "[20]\tTrain-auc:0.87646\tTest-auc:0.86964\n",
      "[21]\tTrain-auc:0.87710\tTest-auc:0.87100\n",
      "[22]\tTrain-auc:0.87776\tTest-auc:0.87041\n",
      "[23]\tTrain-auc:0.87810\tTest-auc:0.87122\n",
      "[24]\tTrain-auc:0.87861\tTest-auc:0.87098\n",
      "[25]\tTrain-auc:0.87895\tTest-auc:0.87187\n",
      "[26]\tTrain-auc:0.87880\tTest-auc:0.87260\n",
      "[27]\tTrain-auc:0.87915\tTest-auc:0.87389\n",
      "[28]\tTrain-auc:0.87940\tTest-auc:0.87581\n",
      "[29]\tTrain-auc:0.87953\tTest-auc:0.87524\n",
      "[30]\tTrain-auc:0.87959\tTest-auc:0.87601\n",
      "[31]\tTrain-auc:0.88005\tTest-auc:0.87627\n",
      "[32]\tTrain-auc:0.87997\tTest-auc:0.87616\n",
      "[33]\tTrain-auc:0.88022\tTest-auc:0.87641\n",
      "[34]\tTrain-auc:0.88065\tTest-auc:0.87680\n",
      "[35]\tTrain-auc:0.88053\tTest-auc:0.87689\n",
      "[36]\tTrain-auc:0.88081\tTest-auc:0.87660\n",
      "[37]\tTrain-auc:0.88089\tTest-auc:0.87649\n",
      "[38]\tTrain-auc:0.88084\tTest-auc:0.87731\n",
      "[39]\tTrain-auc:0.88101\tTest-auc:0.87752\n",
      "[40]\tTrain-auc:0.88144\tTest-auc:0.87780\n",
      "[41]\tTrain-auc:0.88176\tTest-auc:0.87795\n",
      "[42]\tTrain-auc:0.88245\tTest-auc:0.87754\n",
      "[43]\tTrain-auc:0.88254\tTest-auc:0.87722\n",
      "[44]\tTrain-auc:0.88268\tTest-auc:0.87726\n",
      "[45]\tTrain-auc:0.88293\tTest-auc:0.87746\n",
      "[46]\tTrain-auc:0.88331\tTest-auc:0.87745\n",
      "[47]\tTrain-auc:0.88324\tTest-auc:0.87770\n",
      "[48]\tTrain-auc:0.88342\tTest-auc:0.87811\n",
      "[49]\tTrain-auc:0.88422\tTest-auc:0.87721\n",
      "[50]\tTrain-auc:0.88454\tTest-auc:0.87707\n",
      "[51]\tTrain-auc:0.88448\tTest-auc:0.87656\n",
      "[52]\tTrain-auc:0.88455\tTest-auc:0.87582\n",
      "[53]\tTrain-auc:0.88471\tTest-auc:0.87630\n",
      "[54]\tTrain-auc:0.88497\tTest-auc:0.87634\n",
      "[55]\tTrain-auc:0.88497\tTest-auc:0.87672\n",
      "[56]\tTrain-auc:0.88500\tTest-auc:0.87657\n",
      "[57]\tTrain-auc:0.88510\tTest-auc:0.87645\n",
      "[58]\tTrain-auc:0.88541\tTest-auc:0.87583\n",
      "[59]\tTrain-auc:0.88588\tTest-auc:0.87545\n",
      "[60]\tTrain-auc:0.88596\tTest-auc:0.87518\n",
      "[61]\tTrain-auc:0.88613\tTest-auc:0.87491\n",
      "[62]\tTrain-auc:0.88622\tTest-auc:0.87520\n",
      "[63]\tTrain-auc:0.88612\tTest-auc:0.87520\n",
      "[64]\tTrain-auc:0.88656\tTest-auc:0.87464\n",
      "[65]\tTrain-auc:0.88703\tTest-auc:0.87465\n",
      "[66]\tTrain-auc:0.88718\tTest-auc:0.87464\n",
      "[67]\tTrain-auc:0.88737\tTest-auc:0.87486\n",
      "[68]\tTrain-auc:0.88772\tTest-auc:0.87508\n",
      "Stopping. Best iteration:\n",
      "[48]\tTrain-auc:0.88342\tTest-auc:0.87811\n",
      "\n"
     ]
    }
   ],
   "source": [
    "boosting(X, y)"
   ]
  },
  {
   "cell_type": "code",
   "execution_count": 177,
   "metadata": {},
   "outputs": [
    {
     "name": "stdout",
     "output_type": "stream",
     "text": [
      "[0]\tTrain-auc:0.79392\tTest-auc:0.78493\n",
      "Multiple eval metrics have been passed: 'Test-auc' will be used for early stopping.\n",
      "\n",
      "Will train until Test-auc hasn't improved in 20 rounds.\n",
      "[1]\tTrain-auc:0.84122\tTest-auc:0.83694\n",
      "[2]\tTrain-auc:0.85645\tTest-auc:0.85962\n",
      "[3]\tTrain-auc:0.86139\tTest-auc:0.86951\n",
      "[4]\tTrain-auc:0.86185\tTest-auc:0.87008\n",
      "[5]\tTrain-auc:0.85738\tTest-auc:0.86405\n",
      "[6]\tTrain-auc:0.85640\tTest-auc:0.86281\n",
      "[7]\tTrain-auc:0.86141\tTest-auc:0.86746\n",
      "[8]\tTrain-auc:0.85976\tTest-auc:0.86563\n",
      "[9]\tTrain-auc:0.86151\tTest-auc:0.86856\n",
      "[10]\tTrain-auc:0.86299\tTest-auc:0.86820\n",
      "[11]\tTrain-auc:0.86376\tTest-auc:0.87172\n",
      "[12]\tTrain-auc:0.86572\tTest-auc:0.87414\n",
      "[13]\tTrain-auc:0.86640\tTest-auc:0.87430\n",
      "[14]\tTrain-auc:0.86703\tTest-auc:0.87485\n",
      "[15]\tTrain-auc:0.86902\tTest-auc:0.87619\n",
      "[16]\tTrain-auc:0.86956\tTest-auc:0.87492\n",
      "[17]\tTrain-auc:0.87144\tTest-auc:0.87806\n",
      "[18]\tTrain-auc:0.87316\tTest-auc:0.87936\n",
      "[19]\tTrain-auc:0.87316\tTest-auc:0.87870\n",
      "[20]\tTrain-auc:0.87327\tTest-auc:0.87893\n",
      "[21]\tTrain-auc:0.87329\tTest-auc:0.87838\n",
      "[22]\tTrain-auc:0.87385\tTest-auc:0.87871\n",
      "[23]\tTrain-auc:0.87448\tTest-auc:0.87961\n",
      "[24]\tTrain-auc:0.87472\tTest-auc:0.87889\n",
      "[25]\tTrain-auc:0.87536\tTest-auc:0.87936\n",
      "[26]\tTrain-auc:0.87564\tTest-auc:0.87924\n",
      "[27]\tTrain-auc:0.87600\tTest-auc:0.87933\n",
      "[28]\tTrain-auc:0.87653\tTest-auc:0.87854\n",
      "[29]\tTrain-auc:0.87674\tTest-auc:0.87844\n",
      "[30]\tTrain-auc:0.87676\tTest-auc:0.87942\n",
      "[31]\tTrain-auc:0.87716\tTest-auc:0.87979\n",
      "[32]\tTrain-auc:0.87711\tTest-auc:0.87980\n",
      "[33]\tTrain-auc:0.87701\tTest-auc:0.87966\n",
      "[34]\tTrain-auc:0.87728\tTest-auc:0.87981\n",
      "[35]\tTrain-auc:0.87832\tTest-auc:0.88005\n",
      "[36]\tTrain-auc:0.87824\tTest-auc:0.87937\n",
      "[37]\tTrain-auc:0.87823\tTest-auc:0.87974\n",
      "[38]\tTrain-auc:0.87876\tTest-auc:0.87960\n",
      "[39]\tTrain-auc:0.87915\tTest-auc:0.87997\n",
      "[40]\tTrain-auc:0.87956\tTest-auc:0.87958\n",
      "[41]\tTrain-auc:0.87996\tTest-auc:0.88017\n",
      "[42]\tTrain-auc:0.88005\tTest-auc:0.88008\n",
      "[43]\tTrain-auc:0.88045\tTest-auc:0.88009\n",
      "[44]\tTrain-auc:0.88049\tTest-auc:0.88039\n",
      "[45]\tTrain-auc:0.88090\tTest-auc:0.88122\n",
      "[46]\tTrain-auc:0.88099\tTest-auc:0.88149\n",
      "[47]\tTrain-auc:0.88129\tTest-auc:0.88073\n",
      "[48]\tTrain-auc:0.88189\tTest-auc:0.88129\n",
      "[49]\tTrain-auc:0.88230\tTest-auc:0.88162\n",
      "[50]\tTrain-auc:0.88239\tTest-auc:0.88182\n",
      "[51]\tTrain-auc:0.88299\tTest-auc:0.88211\n",
      "[52]\tTrain-auc:0.88321\tTest-auc:0.88175\n",
      "[53]\tTrain-auc:0.88329\tTest-auc:0.88181\n",
      "[54]\tTrain-auc:0.88333\tTest-auc:0.88208\n",
      "[55]\tTrain-auc:0.88356\tTest-auc:0.88204\n",
      "[56]\tTrain-auc:0.88350\tTest-auc:0.88223\n",
      "[57]\tTrain-auc:0.88344\tTest-auc:0.88167\n",
      "[58]\tTrain-auc:0.88353\tTest-auc:0.88205\n",
      "[59]\tTrain-auc:0.88391\tTest-auc:0.88209\n",
      "[60]\tTrain-auc:0.88397\tTest-auc:0.88212\n",
      "[61]\tTrain-auc:0.88403\tTest-auc:0.88212\n",
      "[62]\tTrain-auc:0.88414\tTest-auc:0.88248\n",
      "[63]\tTrain-auc:0.88437\tTest-auc:0.88230\n",
      "[64]\tTrain-auc:0.88497\tTest-auc:0.88305\n",
      "[65]\tTrain-auc:0.88510\tTest-auc:0.88265\n",
      "[66]\tTrain-auc:0.88518\tTest-auc:0.88246\n",
      "[67]\tTrain-auc:0.88583\tTest-auc:0.88270\n",
      "[68]\tTrain-auc:0.88633\tTest-auc:0.88301\n",
      "[69]\tTrain-auc:0.88643\tTest-auc:0.88323\n",
      "[70]\tTrain-auc:0.88679\tTest-auc:0.88287\n",
      "[71]\tTrain-auc:0.88677\tTest-auc:0.88306\n",
      "[72]\tTrain-auc:0.88672\tTest-auc:0.88289\n",
      "[73]\tTrain-auc:0.88686\tTest-auc:0.88258\n",
      "[74]\tTrain-auc:0.88683\tTest-auc:0.88256\n",
      "[75]\tTrain-auc:0.88705\tTest-auc:0.88229\n",
      "[76]\tTrain-auc:0.88760\tTest-auc:0.88246\n",
      "[77]\tTrain-auc:0.88787\tTest-auc:0.88207\n",
      "[78]\tTrain-auc:0.88795\tTest-auc:0.88188\n",
      "[79]\tTrain-auc:0.88853\tTest-auc:0.88186\n",
      "[80]\tTrain-auc:0.88871\tTest-auc:0.88128\n",
      "[81]\tTrain-auc:0.88910\tTest-auc:0.88097\n",
      "[82]\tTrain-auc:0.88913\tTest-auc:0.88122\n",
      "[83]\tTrain-auc:0.88944\tTest-auc:0.88104\n",
      "[84]\tTrain-auc:0.88969\tTest-auc:0.88071\n",
      "[85]\tTrain-auc:0.88989\tTest-auc:0.88070\n",
      "[86]\tTrain-auc:0.88991\tTest-auc:0.88082\n",
      "[87]\tTrain-auc:0.89006\tTest-auc:0.88085\n",
      "[88]\tTrain-auc:0.89019\tTest-auc:0.88074\n",
      "[89]\tTrain-auc:0.89024\tTest-auc:0.88062\n",
      "Stopping. Best iteration:\n",
      "[69]\tTrain-auc:0.88643\tTest-auc:0.88323\n",
      "\n",
      "[0]\ttrain-auc:0.76306+0.01011\ttest-auc:0.74919+0.02019\n",
      "[1]\ttrain-auc:0.83684+0.00831\ttest-auc:0.82109+0.00934\n",
      "[2]\ttrain-auc:0.84649+0.00817\ttest-auc:0.82899+0.00633\n",
      "[3]\ttrain-auc:0.85051+0.00636\ttest-auc:0.83048+0.01144\n",
      "[4]\ttrain-auc:0.85566+0.00249\ttest-auc:0.84025+0.00923\n",
      "[5]\ttrain-auc:0.85985+0.00245\ttest-auc:0.84304+0.00863\n",
      "[6]\ttrain-auc:0.86062+0.00184\ttest-auc:0.84391+0.00696\n",
      "[7]\ttrain-auc:0.86310+0.00321\ttest-auc:0.84303+0.00706\n",
      "[8]\ttrain-auc:0.86607+0.00356\ttest-auc:0.84353+0.00748\n",
      "[9]\ttrain-auc:0.86869+0.00263\ttest-auc:0.84365+0.00831\n",
      "[10]\ttrain-auc:0.86932+0.00302\ttest-auc:0.84510+0.00831\n",
      "[11]\ttrain-auc:0.86946+0.00269\ttest-auc:0.84625+0.00772\n",
      "[12]\ttrain-auc:0.87045+0.00338\ttest-auc:0.84585+0.00735\n",
      "[13]\ttrain-auc:0.87116+0.00386\ttest-auc:0.84633+0.00657\n",
      "[14]\ttrain-auc:0.87238+0.00362\ttest-auc:0.84739+0.00788\n",
      "[15]\ttrain-auc:0.87311+0.00377\ttest-auc:0.84852+0.00844\n",
      "[16]\ttrain-auc:0.87415+0.00371\ttest-auc:0.84931+0.00863\n",
      "[17]\ttrain-auc:0.87408+0.00376\ttest-auc:0.84977+0.00796\n",
      "[18]\ttrain-auc:0.87445+0.00394\ttest-auc:0.84894+0.00892\n",
      "[19]\ttrain-auc:0.87534+0.00379\ttest-auc:0.84858+0.00984\n",
      "[20]\ttrain-auc:0.87537+0.00340\ttest-auc:0.84911+0.00771\n",
      "[21]\ttrain-auc:0.87560+0.00304\ttest-auc:0.84973+0.00814\n",
      "[22]\ttrain-auc:0.87648+0.00345\ttest-auc:0.84974+0.00906\n",
      "[23]\ttrain-auc:0.87641+0.00351\ttest-auc:0.85076+0.00881\n",
      "[24]\ttrain-auc:0.87659+0.00334\ttest-auc:0.85131+0.00885\n",
      "[25]\ttrain-auc:0.87758+0.00324\ttest-auc:0.85147+0.00868\n",
      "[26]\ttrain-auc:0.87793+0.00331\ttest-auc:0.85236+0.00891\n",
      "[27]\ttrain-auc:0.87836+0.00344\ttest-auc:0.85222+0.00927\n",
      "[28]\ttrain-auc:0.87883+0.00338\ttest-auc:0.85176+0.00921\n",
      "[29]\ttrain-auc:0.87936+0.00353\ttest-auc:0.85148+0.00965\n",
      "[30]\ttrain-auc:0.87997+0.00340\ttest-auc:0.85228+0.00869\n",
      "[31]\ttrain-auc:0.88051+0.00314\ttest-auc:0.85278+0.00812\n",
      "[32]\ttrain-auc:0.88081+0.00319\ttest-auc:0.85310+0.00893\n",
      "[33]\ttrain-auc:0.88145+0.00276\ttest-auc:0.85327+0.00914\n",
      "[34]\ttrain-auc:0.88162+0.00275\ttest-auc:0.85381+0.00935\n",
      "[35]\ttrain-auc:0.88175+0.00264\ttest-auc:0.85445+0.00910\n",
      "[36]\ttrain-auc:0.88191+0.00279\ttest-auc:0.85456+0.00852\n",
      "[37]\ttrain-auc:0.88199+0.00265\ttest-auc:0.85505+0.00849\n",
      "[38]\ttrain-auc:0.88247+0.00252\ttest-auc:0.85545+0.00817\n",
      "[39]\ttrain-auc:0.88250+0.00243\ttest-auc:0.85541+0.00786\n",
      "[40]\ttrain-auc:0.88277+0.00273\ttest-auc:0.85568+0.00732\n",
      "[41]\ttrain-auc:0.88326+0.00305\ttest-auc:0.85558+0.00806\n",
      "[42]\ttrain-auc:0.88363+0.00311\ttest-auc:0.85529+0.00800\n",
      "[43]\ttrain-auc:0.88417+0.00340\ttest-auc:0.85571+0.00869\n",
      "[44]\ttrain-auc:0.88453+0.00346\ttest-auc:0.85556+0.00845\n",
      "[45]\ttrain-auc:0.88502+0.00312\ttest-auc:0.85545+0.00840\n",
      "[46]\ttrain-auc:0.88537+0.00310\ttest-auc:0.85548+0.00797\n",
      "[47]\ttrain-auc:0.88561+0.00299\ttest-auc:0.85562+0.00797\n",
      "[48]\ttrain-auc:0.88567+0.00306\ttest-auc:0.85551+0.00836\n",
      "[49]\ttrain-auc:0.88644+0.00314\ttest-auc:0.85548+0.00835\n",
      "[50]\ttrain-auc:0.88671+0.00309\ttest-auc:0.85551+0.00835\n",
      "[51]\ttrain-auc:0.88705+0.00307\ttest-auc:0.85557+0.00850\n",
      "[52]\ttrain-auc:0.88707+0.00301\ttest-auc:0.85564+0.00834\n",
      "[53]\ttrain-auc:0.88749+0.00287\ttest-auc:0.85559+0.00848\n",
      "[54]\ttrain-auc:0.88772+0.00280\ttest-auc:0.85565+0.00854\n",
      "[55]\ttrain-auc:0.88778+0.00269\ttest-auc:0.85598+0.00856\n",
      "[56]\ttrain-auc:0.88802+0.00286\ttest-auc:0.85581+0.00845\n",
      "[57]\ttrain-auc:0.88830+0.00285\ttest-auc:0.85592+0.00804\n",
      "[58]\ttrain-auc:0.88846+0.00285\ttest-auc:0.85587+0.00777\n",
      "[59]\ttrain-auc:0.88879+0.00277\ttest-auc:0.85556+0.00776\n",
      "[60]\ttrain-auc:0.88917+0.00282\ttest-auc:0.85529+0.00835\n",
      "[61]\ttrain-auc:0.88934+0.00288\ttest-auc:0.85511+0.00866\n",
      "[62]\ttrain-auc:0.88956+0.00282\ttest-auc:0.85519+0.00847\n",
      "[63]\ttrain-auc:0.89001+0.00258\ttest-auc:0.85510+0.00796\n",
      "[64]\ttrain-auc:0.89023+0.00244\ttest-auc:0.85520+0.00810\n",
      "[65]\ttrain-auc:0.89041+0.00245\ttest-auc:0.85499+0.00802\n",
      "[66]\ttrain-auc:0.89065+0.00242\ttest-auc:0.85494+0.00820\n",
      "[67]\ttrain-auc:0.89073+0.00254\ttest-auc:0.85506+0.00831\n",
      "[68]\ttrain-auc:0.89090+0.00261\ttest-auc:0.85495+0.00840\n",
      "[69]\ttrain-auc:0.89101+0.00259\ttest-auc:0.85480+0.00877\n",
      "[70]\ttrain-auc:0.89113+0.00255\ttest-auc:0.85466+0.00864\n",
      "[71]\ttrain-auc:0.89146+0.00259\ttest-auc:0.85464+0.00831\n",
      "[72]\ttrain-auc:0.89181+0.00227\ttest-auc:0.85475+0.00832\n",
      "[73]\ttrain-auc:0.89206+0.00227\ttest-auc:0.85450+0.00823\n",
      "[74]\ttrain-auc:0.89227+0.00225\ttest-auc:0.85440+0.00805\n"
     ]
    }
   ],
   "source": [
    "boosting(X, y, 1)"
   ]
  }
 ],
 "metadata": {
  "kernelspec": {
   "display_name": "Python 3",
   "language": "python",
   "name": "python3"
  },
  "language_info": {
   "codemirror_mode": {
    "name": "ipython",
    "version": 3
   },
   "file_extension": ".py",
   "mimetype": "text/x-python",
   "name": "python",
   "nbconvert_exporter": "python",
   "pygments_lexer": "ipython3",
   "version": "3.8.3"
  }
 },
 "nbformat": 4,
 "nbformat_minor": 4
}
